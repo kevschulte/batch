{
 "cells": [
  {
   "cell_type": "code",
   "execution_count": 92,
   "metadata": {},
   "outputs": [],
   "source": [
    "import numpy as np\n",
    "import matplotlib.pyplot as plt\n",
    "from scipy.integrate import odeint\n",
    "import ipywidgets as wg\n",
    "from IPython.display import display\n",
    "\n",
    "R = 8.3145\n",
    "\n",
    "k_1 = 8.5e7\n",
    "k_2 = 7e9\n",
    "k_3 = 1.5e12\n",
    "\n",
    "E_A1 = 1.5e5\n",
    "E_A2 = 1.67e5\n",
    "E_A3 = 2.05e5\n",
    "\n",
    "def batch(c,t,T):\n",
    "    r1 = k_1*np.exp(-E_A1/(R*T))\n",
    "    r2 = k_2*np.exp(-E_A2/(R*T))\n",
    "    r3 = k_3*np.exp(-E_A3/(R*T))\n",
    "    \n",
    "    dcadt = -r1*c[0]\n",
    "    dcbdt = r1*c[0] - r2*c[1] - r3*c[1]\n",
    "    dccdt = r2*c[1]\n",
    "    dcddt = r3*c[1]\n",
    "    return [dcadt, dcbdt, dccdt, dcddt]\n",
    "\n",
    "\n",
    "def bp(T, t_r,p):\n",
    "    t = np.linspace(0,t_r,100)\n",
    "    ca = p*1e5/(R*T)\n",
    "    c_0 = [ca,0,0,0]\n",
    "    c = odeint(batch, c_0, t, args=(T,))\n",
    "    \n",
    "    fig1=plt.figure(figsize=(15, 10), dpi = 100)\n",
    "    plt.plot(t,c[:,0], label=\"Reactand\")\n",
    "    plt.plot(t,c[:,1], label=\"Intermediate\")\n",
    "    plt.plot(t,c[:,2], label=\"Product\")\n",
    "    plt.plot(t,c[:,3], label=\"Byproduct\")\n",
    "    plt.ylim(-2,27)\n",
    "    plt.xlabel(\"Reaction time [s]\")\n",
    "    plt.ylabel(\"Concentration of component i [mol $\\cdot$ m$^{-3}$]\")\n",
    "    plt.legend(loc=\"best\")\n",
    "    \n",
    "    \n",
    "\n",
    "    \n",
    "def sens(T_int,n, t_r,p):\n",
    "    T_L = T_int[0]\n",
    "    T_U = T_int[1]\n",
    "    T = np.linspace(T_L,T_U,n)\n",
    "    t = np.linspace(0,t_r,100)\n",
    "          \n",
    "    conv = np.arange(n, dtype=float)\n",
    "    yieldp = np.arange(n, dtype=float)\n",
    "    yieldnp = np.arange(n, dtype=float)\n",
    "    selecp = np.arange(n, dtype=float)\n",
    "    selecnp = np.arange(n, dtype=float)\n",
    "\n",
    "            \n",
    "    for i in range(n):\n",
    "        ca = p*1e5/(R*T[i])\n",
    "        c_0 = [ca,0,0,0]\n",
    "        c = odeint(batch, c_0, t, args=(T[i],))\n",
    "        conv[i] = (c[0,0]-c[-1,0])/c[0,0]*100\n",
    "        yieldp[i] = (c[-1,2]-c[0,2])/c[0,0]*100\n",
    "        yieldnp[i] = (c[-1,3]-c[0,3])/c[0,0]*100\n",
    "        selecp[i] = yieldp[i]/conv[i]*100\n",
    "        selecnp[i] = yieldnp[i]/conv[i]*100\n",
    "    \n",
    "    fig2=plt.figure(figsize=(15, 10), dpi = 100)\n",
    "    plt.ylim([-2,102])\n",
    "    plt.xlabel(\"Reactor Temperature [K]\")\n",
    "    plt.ylabel(\"Yield, Selectivity and Conversion [%]\")\n",
    "    plt.plot(T,conv, label=\"Conversion %\")\n",
    "    plt.plot(T,yieldp, label=\"Yield %\")\n",
    "    plt.plot(T,selecp, label=\"Selectivity Product %\")\n",
    "    plt.plot(T,selecnp, label=\"Selectivity Byproduct %\")\n",
    "    plt.legend(loc=\"best\")\n",
    "    \n"
   ]
  },
  {
   "cell_type": "code",
   "execution_count": 97,
   "metadata": {
    "scrolled": false
   },
   "outputs": [
    {
     "data": {
      "application/vnd.jupyter.widget-view+json": {
       "model_id": "e4216626aa364896a80c443c9a072160",
       "version_major": 2,
       "version_minor": 0
      },
      "text/plain": [
       "interactive(children=(FloatText(value=776.0, description='Reactor temperature $T_R$ [K]', step=5.0, style=Desc…"
      ]
     },
     "metadata": {},
     "output_type": "display_data"
    },
    {
     "data": {
      "text/plain": [
       "<function __main__.bp(T, t_r, p)>"
      ]
     },
     "execution_count": 97,
     "metadata": {},
     "output_type": "execute_result"
    }
   ],
   "source": [
    "s1 = {'description_width': 'initial'}\n",
    "T_text = wg.FloatText(value=776, step=5, description=\"Reactor temperature $T_R$ [K]\", style=s1)\n",
    "t_text = wg.FloatText(value = 120, step=10, description=\"Reaction time $t_R$ [s]\", style=s1)\n",
    "p_text = wg.FloatText(value = 1.6, step=0.1, description=\"Vessel Pressure $p_R$ [bar]\", style=s1)\n",
    "wg.interact(bp, T = T_text, t_r = t_text, p=p_text)\n"
   ]
  },
  {
   "cell_type": "code",
   "execution_count": 100,
   "metadata": {
    "scrolled": false
   },
   "outputs": [
    {
     "data": {
      "application/vnd.jupyter.widget-view+json": {
       "model_id": "20d09ec1169443ddb9db653af4cb3aaa",
       "version_major": 2,
       "version_minor": 0
      },
      "text/plain": [
       "interactive(children=(FloatRangeSlider(value=(750.0, 800.0), continuous_update=False, description='Temperature…"
      ]
     },
     "metadata": {},
     "output_type": "display_data"
    },
    {
     "data": {
      "text/plain": [
       "<function __main__.sens(T_int, n, t_r, p)>"
      ]
     },
     "execution_count": 100,
     "metadata": {},
     "output_type": "execute_result"
    }
   ],
   "source": [
    "s1 = {'description_width': 'initial'}\n",
    "T_range = wg.FloatRangeSlider(value=[750,800], min=600, max=1000, step=5.0, description=\"Temperature Range [K]\", continuous_update= False, style=s1)\n",
    "dp_text = wg.IntText(value = 20, step=5, description=\"Number of Datapoints\", style=s1)\n",
    "t_text = wg.FloatText(value = 120, step=10, description=\"Reaction time $t_R$ [s]\", style=s1)\n",
    "p_text = wg.FloatText(value = 1.6, step=0.1, description=\"Vessel Pressure $p_R$ [bar]\", style=s1)\n",
    "                                                        \n",
    "wg.interact(sens, T_int = T_range, n = dp_text, t_r = t_text, p=p_text)"
   ]
  }
 ],
 "metadata": {
  "kernelspec": {
   "display_name": "Python 3",
   "language": "python",
   "name": "python3"
  },
  "language_info": {
   "codemirror_mode": {
    "name": "ipython",
    "version": 3
   },
   "file_extension": ".py",
   "mimetype": "text/x-python",
   "name": "python",
   "nbconvert_exporter": "python",
   "pygments_lexer": "ipython3",
   "version": "3.7.3"
  }
 },
 "nbformat": 4,
 "nbformat_minor": 2
}
